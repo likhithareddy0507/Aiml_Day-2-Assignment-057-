{
 "cells": [
  {
   "cell_type": "code",
   "execution_count": null,
   "id": "c205dc69-42c9-4b08-a132-3f51b19318a8",
   "metadata": {},
   "outputs": [],
   "source": [
    "# 1)Write a Python program that performs the following tasks:\n",
    "\n",
    "1. Ask the user to enter a positive integer `n`.\n",
    "2. Use a `for` loop to print all numbers from `1` to `n` on separate lines.\n",
    "3. Use a `while` loop to calculate the sum of all numbers from `1` to `n` and print the result."
   ]
  },
  {
   "cell_type": "code",
   "execution_count": 3,
   "id": "da6e3faa-b84f-46d0-84a1-29b489905258",
   "metadata": {},
   "outputs": [
    {
     "name": "stdin",
     "output_type": "stream",
     "text": [
      "Enter a positive integer:  14\n"
     ]
    },
    {
     "name": "stdout",
     "output_type": "stream",
     "text": [
      "Numbers from 1 to 14 :\n",
      "1\n",
      "2\n",
      "3\n",
      "4\n",
      "5\n",
      "6\n",
      "7\n",
      "8\n",
      "9\n",
      "10\n",
      "11\n",
      "12\n",
      "13\n",
      "14\n",
      "The sum of all numbers from 1 to 14 is: 105\n"
     ]
    }
   ],
   "source": [
    "n = int(input(\"Enter a positive integer: \"))\n",
    "if n <= 0:\n",
    "    print(\"Please enter a positive integer.\")\n",
    "else:\n",
    "    print(\"Numbers from 1 to\", n, \":\")\n",
    "    for i in range(1, n + 1):\n",
    "        print(i)\n",
    "    total_sum = 0\n",
    "    counter = 1\n",
    "    while counter <= n:\n",
    "        total_sum += counter\n",
    "        counter += 1\n",
    "    print(\"The sum of all numbers from 1 to\", n, \"is:\", total_sum)"
   ]
  },
  {
   "cell_type": "code",
   "execution_count": null,
   "id": "01400b0c-6e87-41d6-8fb7-4d3459fc0fcf",
   "metadata": {},
   "outputs": [],
   "source": [
    "# 2)Write a Python program that includes a user-defined function to perform the following tasks:\n",
    "\n",
    "1. Define a function named calculate_square that takes a single argument `n` and returns the square of `n`.\n",
    "2. In the main program, ask the user to input a positive integer.\n",
    "3. Call the calculate_square function with the user-provided number and display the result.\n"
   ]
  },
  {
   "cell_type": "code",
   "execution_count": 7,
   "id": "1822e181-785a-4e58-a845-80f88c6f06e2",
   "metadata": {},
   "outputs": [
    {
     "name": "stdin",
     "output_type": "stream",
     "text": [
      "Enter a positive integer:  54\n"
     ]
    },
    {
     "name": "stdout",
     "output_type": "stream",
     "text": [
      "The square of 54 is: 2916\n"
     ]
    }
   ],
   "source": [
    "def calculate_square(n):\n",
    "    return n * n\n",
    "try:\n",
    "    number = int(input(\"Enter a positive integer: \"))\n",
    "    if number <= 0:\n",
    "        print(\"Please enter a positive integer.\")\n",
    "    else:\n",
    "        result = calculate_square(number)\n",
    "        print(f\"The square of {number} is: {result}\")\n",
    "\n",
    "except ValueError:\n",
    "    print(\"Invalid input. Please enter a valid positive integer.\")"
   ]
  },
  {
   "cell_type": "code",
   "execution_count": null,
   "id": "dfcbffb5-138d-4ed1-94cd-82288bee8a92",
   "metadata": {},
   "outputs": [],
   "source": []
  }
 ],
 "metadata": {
  "kernelspec": {
   "display_name": "Python [conda env:base] *",
   "language": "python",
   "name": "conda-base-py"
  },
  "language_info": {
   "codemirror_mode": {
    "name": "ipython",
    "version": 3
   },
   "file_extension": ".py",
   "mimetype": "text/x-python",
   "name": "python",
   "nbconvert_exporter": "python",
   "pygments_lexer": "ipython3",
   "version": "3.12.7"
  }
 },
 "nbformat": 4,
 "nbformat_minor": 5
}
