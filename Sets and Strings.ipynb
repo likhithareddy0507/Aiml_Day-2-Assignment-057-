{
 "cells": [
  {
   "cell_type": "code",
   "execution_count": 5,
   "id": "13aba533-5c6f-4215-a080-8d5b9d772fb2",
   "metadata": {},
   "outputs": [
    {
     "name": "stdout",
     "output_type": "stream",
     "text": [
      "{3, 4, 'Hello', 7}\n",
      "<class 'set'>\n"
     ]
    }
   ],
   "source": [
    "# Sets\n",
    "s1= { 3,4,7,\"Hello\"}\n",
    "print(s1)\n",
    "print(type(s1))"
   ]
  },
  {
   "cell_type": "code",
   "execution_count": 9,
   "id": "5f2bb46e-dede-47cb-ae85-6ced36e1b81a",
   "metadata": {},
   "outputs": [
    {
     "data": {
      "text/plain": [
       "{0, 1, 8, 9, 10, 20, 78}"
      ]
     },
     "execution_count": 9,
     "metadata": {},
     "output_type": "execute_result"
    }
   ],
   "source": [
    "lst1 = [1,8,9,0,10,20,78]\n",
    "s2 = set(lst1)\n",
    "s2"
   ]
  },
  {
   "cell_type": "code",
   "execution_count": 11,
   "id": "6038effd-1102-41b7-8ec2-e835697de01b",
   "metadata": {},
   "outputs": [
    {
     "data": {
      "text/plain": [
       "{1, 2, 3, 4, 5, 6}"
      ]
     },
     "execution_count": 11,
     "metadata": {},
     "output_type": "execute_result"
    }
   ],
   "source": [
    "s1 = {1,2,3,4}\n",
    "s2 = {3,4,5,6}\n",
    "s1 | s2"
   ]
  },
  {
   "cell_type": "code",
   "execution_count": 13,
   "id": "ddaf6325-7aa4-4e25-922f-a4d5e28b4771",
   "metadata": {},
   "outputs": [
    {
     "data": {
      "text/plain": [
       "{3, 4}"
      ]
     },
     "execution_count": 13,
     "metadata": {},
     "output_type": "execute_result"
    }
   ],
   "source": [
    "# Intersection using & operator\n",
    "\n",
    "s1 = {1,2,3,4}\n",
    "s2 = {3,4,5,6}\n",
    "s1 & s2"
   ]
  },
  {
   "cell_type": "code",
   "execution_count": 15,
   "id": "460f685f-9df9-4146-b29a-deccdf2557f6",
   "metadata": {},
   "outputs": [
    {
     "data": {
      "text/plain": [
       "{3, 4}"
      ]
     },
     "execution_count": 15,
     "metadata": {},
     "output_type": "execute_result"
    }
   ],
   "source": [
    "#alternate \n",
    "s1 = {1,2,3,4}\n",
    "s2 = {3,4,5,6}\n",
    "s1.intersection(s2)"
   ]
  },
  {
   "cell_type": "code",
   "execution_count": 19,
   "id": "1abac73a-64c0-43c3-9f79-84fc18b11da1",
   "metadata": {},
   "outputs": [
    {
     "data": {
      "text/plain": [
       "{2, 3}"
      ]
     },
     "execution_count": 19,
     "metadata": {},
     "output_type": "execute_result"
    }
   ],
   "source": [
    "# difference of two sets\n",
    "s1 = {2,3,6,8,9}\n",
    "s2 = {6,8,9}\n",
    "s1 - s2"
   ]
  },
  {
   "cell_type": "code",
   "execution_count": 21,
   "id": "5dcc5466-08e7-43fe-812b-48987764e869",
   "metadata": {},
   "outputs": [
    {
     "data": {
      "text/plain": [
       "set()"
      ]
     },
     "execution_count": 21,
     "metadata": {},
     "output_type": "execute_result"
    }
   ],
   "source": [
    "s1 = {2,3,6,8,9}\n",
    "s2 = {6,8,9}\n",
    "s2-s1"
   ]
  },
  {
   "cell_type": "code",
   "execution_count": 23,
   "id": "9498c1a3-2eb9-4368-b5e4-5bfbbc3273cb",
   "metadata": {},
   "outputs": [
    {
     "data": {
      "text/plain": [
       "{2, 3}"
      ]
     },
     "execution_count": 23,
     "metadata": {},
     "output_type": "execute_result"
    }
   ],
   "source": [
    "s1 = {2,3,6,8,9}\n",
    "s2 = {6,8,9}\n",
    "s1.difference(s2)"
   ]
  },
  {
   "cell_type": "code",
   "execution_count": null,
   "id": "112581dc-e66c-4f75-87f7-94d02d9a69d2",
   "metadata": {},
   "outputs": [],
   "source": []
  },
  {
   "cell_type": "code",
   "execution_count": 39,
   "id": "5dc3f3be-1efe-4186-8913-7431586e1f7e",
   "metadata": {},
   "outputs": [
    {
     "data": {
      "text/plain": [
       "True"
      ]
     },
     "execution_count": 39,
     "metadata": {},
     "output_type": "execute_result"
    }
   ],
   "source": [
    "#subset\n",
    "s1={1,2,3,4}\n",
    "s2={1,2,3}\n",
    "s2.issubset(s1)"
   ]
  },
  {
   "cell_type": "code",
   "execution_count": 33,
   "id": "fdecd393-7b2a-4935-996c-9adac9e851bd",
   "metadata": {},
   "outputs": [
    {
     "data": {
      "text/plain": [
       "False"
      ]
     },
     "execution_count": 33,
     "metadata": {},
     "output_type": "execute_result"
    }
   ],
   "source": [
    "s2.issuperset(s1)"
   ]
  },
  {
   "cell_type": "code",
   "execution_count": 35,
   "id": "740258ec-91a5-4098-b725-793570ef18b3",
   "metadata": {},
   "outputs": [
    {
     "data": {
      "text/plain": [
       "True"
      ]
     },
     "execution_count": 35,
     "metadata": {},
     "output_type": "execute_result"
    }
   ],
   "source": [
    "s1.issuperset(s2)"
   ]
  },
  {
   "cell_type": "code",
   "execution_count": null,
   "id": "2a47521f-8107-4602-b5b8-19d8ee635910",
   "metadata": {},
   "outputs": [],
   "source": [
    "# Strings\n",
    "#### Strings are immutable\n",
    " ## collection of alpha numeric charecters\n",
    " ## indexing allowed\n",
    "## iterable objects\n"
   ]
  },
  {
   "cell_type": "code",
   "execution_count": 43,
   "id": "10f1edad-fcbe-4ebe-9c09-750e8e3ae472",
   "metadata": {},
   "outputs": [
    {
     "name": "stdout",
     "output_type": "stream",
     "text": [
      "<class 'str'>\n",
      "<class 'str'>\n",
      "<class 'str'>\n"
     ]
    }
   ],
   "source": [
    "str1 = \"Welcome aiml class\"\n",
    "str2 = 'We stared with python'\n",
    "str3 = ''' This an awesome class'''\n",
    "print(type(str1))\n",
    "print(type(str2))\n",
    "print(type(str3))\n",
    "\n",
    "\n"
   ]
  },
  {
   "cell_type": "code",
   "execution_count": 45,
   "id": "1c54b7de-0094-4d55-8733-11412b17f7a7",
   "metadata": {},
   "outputs": [
    {
     "name": "stdout",
     "output_type": "stream",
     "text": [
      "Welcome aiml class\n"
     ]
    },
    {
     "data": {
      "text/plain": [
       "'me ai'"
      ]
     },
     "execution_count": 45,
     "metadata": {},
     "output_type": "execute_result"
    }
   ],
   "source": [
    "#slicing in strings\n",
    "print(str1)\n",
    "str1[5:10]"
   ]
  },
  {
   "cell_type": "code",
   "execution_count": 47,
   "id": "dfe660ee-90ef-441a-85ff-095cae008926",
   "metadata": {},
   "outputs": [
    {
     "data": {
      "text/plain": [
       "['__add__',\n",
       " '__class__',\n",
       " '__contains__',\n",
       " '__delattr__',\n",
       " '__dir__',\n",
       " '__doc__',\n",
       " '__eq__',\n",
       " '__format__',\n",
       " '__ge__',\n",
       " '__getattribute__',\n",
       " '__getitem__',\n",
       " '__getnewargs__',\n",
       " '__getstate__',\n",
       " '__gt__',\n",
       " '__hash__',\n",
       " '__init__',\n",
       " '__init_subclass__',\n",
       " '__iter__',\n",
       " '__le__',\n",
       " '__len__',\n",
       " '__lt__',\n",
       " '__mod__',\n",
       " '__mul__',\n",
       " '__ne__',\n",
       " '__new__',\n",
       " '__reduce__',\n",
       " '__reduce_ex__',\n",
       " '__repr__',\n",
       " '__rmod__',\n",
       " '__rmul__',\n",
       " '__setattr__',\n",
       " '__sizeof__',\n",
       " '__str__',\n",
       " '__subclasshook__',\n",
       " 'capitalize',\n",
       " 'casefold',\n",
       " 'center',\n",
       " 'count',\n",
       " 'encode',\n",
       " 'endswith',\n",
       " 'expandtabs',\n",
       " 'find',\n",
       " 'format',\n",
       " 'format_map',\n",
       " 'index',\n",
       " 'isalnum',\n",
       " 'isalpha',\n",
       " 'isascii',\n",
       " 'isdecimal',\n",
       " 'isdigit',\n",
       " 'isidentifier',\n",
       " 'islower',\n",
       " 'isnumeric',\n",
       " 'isprintable',\n",
       " 'isspace',\n",
       " 'istitle',\n",
       " 'isupper',\n",
       " 'join',\n",
       " 'ljust',\n",
       " 'lower',\n",
       " 'lstrip',\n",
       " 'maketrans',\n",
       " 'partition',\n",
       " 'removeprefix',\n",
       " 'removesuffix',\n",
       " 'replace',\n",
       " 'rfind',\n",
       " 'rindex',\n",
       " 'rjust',\n",
       " 'rpartition',\n",
       " 'rsplit',\n",
       " 'rstrip',\n",
       " 'split',\n",
       " 'splitlines',\n",
       " 'startswith',\n",
       " 'strip',\n",
       " 'swapcase',\n",
       " 'title',\n",
       " 'translate',\n",
       " 'upper',\n",
       " 'zfill']"
      ]
     },
     "execution_count": 47,
     "metadata": {},
     "output_type": "execute_result"
    }
   ],
   "source": [
    "# \n",
    "dir(str)"
   ]
  },
  {
   "cell_type": "code",
   "execution_count": 49,
   "id": "c35cb7b9-e559-4a4a-8345-612f20333e92",
   "metadata": {},
   "outputs": [
    {
     "name": "stdout",
     "output_type": "stream",
     "text": [
      "Welcome aiml class\n"
     ]
    },
    {
     "data": {
      "text/plain": [
       "['Welcome', 'aiml', 'class']"
      ]
     },
     "execution_count": 49,
     "metadata": {},
     "output_type": "execute_result"
    }
   ],
   "source": [
    "# methods of strings\n",
    "# split method\n",
    "print(str1)\n",
    "str1.split()"
   ]
  },
  {
   "cell_type": "code",
   "execution_count": 59,
   "id": "c805d75d-454f-4120-859b-261ba07c4706",
   "metadata": {},
   "outputs": [
    {
     "data": {
      "text/plain": [
       "'H e l l o , H o w   a r e   y o u ?'"
      ]
     },
     "execution_count": 59,
     "metadata": {},
     "output_type": "execute_result"
    }
   ],
   "source": [
    "str4 = \"Hello,How are you?\"\n",
    "' '.join(str4)"
   ]
  },
  {
   "cell_type": "code",
   "execution_count": 67,
   "id": "72af7370-0d6e-468f-8ac8-f144073e0323",
   "metadata": {},
   "outputs": [
    {
     "data": {
      "text/plain": [
       "'    Hello, I am fine!   '"
      ]
     },
     "execution_count": 67,
     "metadata": {},
     "output_type": "execute_result"
    }
   ],
   "source": [
    "# Strip() method\n",
    "str5 = \"    Hello, I am fine!   \"\n",
    "str5\n"
   ]
  },
  {
   "cell_type": "code",
   "execution_count": null,
   "id": "8085aec6-3999-4881-a7a8-b813eb934bbe",
   "metadata": {},
   "outputs": [],
   "source": [
    "\"\"strip means Removing empty spaces\"\""
   ]
  },
  {
   "cell_type": "code",
   "execution_count": 69,
   "id": "aafb8996-205f-4eff-a564-945e95ce532a",
   "metadata": {},
   "outputs": [
    {
     "data": {
      "text/plain": [
       "'Hello, I am fine!'"
      ]
     },
     "execution_count": 69,
     "metadata": {},
     "output_type": "execute_result"
    }
   ],
   "source": [
    "str5.strip()"
   ]
  },
  {
   "cell_type": "code",
   "execution_count": 75,
   "id": "11cbeb70-2a54-43ba-bb91-6da32560d9bf",
   "metadata": {},
   "outputs": [
    {
     "name": "stdout",
     "output_type": "stream",
     "text": [
      "ProductID {101, 102, 103, 104, 105, 106, 107, 108, 109, 110},/n\n",
      "ProductName {'Desk', 'Keyboard', 'Headphones', 'Chair', 'Laptop', 'Webcam', 'Monitor', 'Tablet', 'Mouse', 'Printer'},/n\n",
      "Category {'Electronics', 'Accessories', 'Furniture'},/n\n",
      "PriceRange {'Medium', 'High', 'Low'},/n\n",
      "StockAvailable {100, 8, 10, 75, 12, 15, 50, 20, 25, 60},/n\n"
     ]
    }
   ],
   "source": [
    "# Example dictionary for product sales analysis\n",
    "sales_data = {\n",
    "    \"ProductID\": [101, 102, 103, 104, 105, 106, 107, 108, 109, 110],\n",
    "    \"ProductName\": [\"Laptop\", \"Mouse\", \"Keyboard\", \"Monitor\", \"Chair\", \"Desk\", \"Webcam\", \"Headphones\", \"Printer\", \"Tablet\"],\n",
    "    \"Category\": [\"Electronics\", \"Accessories\", \"Accessories\", \"Electronics\", \"Furniture\", \"Furniture\", \"Electronics\", \"Accessories\", \"Electronics\", \"Electronics\"],\n",
    "    \"PriceRange\": [\"High\", \"Low\", \"Low\", \"Medium\", \"Medium\", \"Medium\", \"Low\", \"Low\", \"Medium\", \"High\"],\n",
    "    \"StockAvailable\": [15, 100, 75, 20, 10, 8, 50, 60, 25, 12],\n",
    "}\n",
    "for k,v in sales_data.items():\n",
    "    print(k,set(v), end =',')\n",
    "    print('/n')"
   ]
  },
  {
   "cell_type": "code",
   "execution_count": 77,
   "id": "05747906-afca-4e0c-8e6c-4223a0fe7993",
   "metadata": {},
   "outputs": [
    {
     "data": {
      "text/plain": [
       "{'Review1': {'WordCount': 14,\n",
       "  'UniqueWords': ['functionality',\n",
       "   'the',\n",
       "   'versatile',\n",
       "   'is',\n",
       "   'prompt',\n",
       "   'quality',\n",
       "   'excellent',\n",
       "   'product',\n",
       "   'delivery',\n",
       "   'was',\n",
       "   'and']},\n",
       " 'Review2': {'WordCount': 15,\n",
       "  'UniqueWords': ['improve',\n",
       "   'the',\n",
       "   'better',\n",
       "   'been',\n",
       "   'has',\n",
       "   'to',\n",
       "   'but',\n",
       "   'have',\n",
       "   'good',\n",
       "   'could',\n",
       "   'customer',\n",
       "   'service',\n",
       "   'packaging']},\n",
       " 'Review3': {'WordCount': 18,\n",
       "  'UniqueWords': ['the',\n",
       "   'fine',\n",
       "   'is',\n",
       "   'but',\n",
       "   'excellent',\n",
       "   'i',\n",
       "   'rate',\n",
       "   'product',\n",
       "   'works',\n",
       "   'support',\n",
       "   'as',\n",
       "   'helpful',\n",
       "   'customer',\n",
       "   'very',\n",
       "   'not']}}"
      ]
     },
     "execution_count": 77,
     "metadata": {},
     "output_type": "execute_result"
    }
   ],
   "source": [
    "# Original reviews dictionary\n",
    "reviews = {\n",
    "    \"Review1\": \"The product quality is excellent and delivery was prompt. The product functionality is versatile\",\n",
    "    \"Review2\": \"Good service but the packaging could have been better. The customer service has to improve\",\n",
    "    \"Review3\": \"The product works fine, but the customer support is not very helpful. I rate the product as excellent\",\n",
    "}\n",
    "\n",
    "# Result dictionary to store analysis of reviews\n",
    "review_analysis = {}\n",
    "\n",
    "# Process each review\n",
    "for key, review in reviews.items():\n",
    "    # Split the review into words\n",
    "    words = review.lower().replace('.', '').replace(',', '').split()\n",
    "    # Create a sub-dictionary with word count and unique words\n",
    "    review_analysis[key] = {\n",
    "        \"WordCount\": len(words),\n",
    "        \"UniqueWords\": list(set(words))\n",
    "    }\n",
    "\n",
    "review_analysis\n"
   ]
  },
  {
   "cell_type": "code",
   "execution_count": null,
   "id": "9e0c707e-5e20-4ff6-9efc-91bc04630326",
   "metadata": {},
   "outputs": [],
   "source": []
  }
 ],
 "metadata": {
  "kernelspec": {
   "display_name": "Python [conda env:base] *",
   "language": "python",
   "name": "conda-base-py"
  },
  "language_info": {
   "codemirror_mode": {
    "name": "ipython",
    "version": 3
   },
   "file_extension": ".py",
   "mimetype": "text/x-python",
   "name": "python",
   "nbconvert_exporter": "python",
   "pygments_lexer": "ipython3",
   "version": "3.12.7"
  }
 },
 "nbformat": 4,
 "nbformat_minor": 5
}
