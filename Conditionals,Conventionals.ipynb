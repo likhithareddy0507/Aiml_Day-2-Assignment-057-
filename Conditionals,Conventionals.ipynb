{
 "cells": [
  {
   "cell_type": "code",
   "execution_count": 3,
   "id": "ad1da825-6170-4054-91fa-2aecae773c93",
   "metadata": {},
   "outputs": [
    {
     "name": "stdout",
     "output_type": "stream",
     "text": [
      "even\n"
     ]
    }
   ],
   "source": [
    "# Conventional  if-else\n",
    "num = 6\n",
    "if num %2 == 0:\n",
    "    print(\"even\")\n",
    "else:\n",
    "    print(\"odd\")"
   ]
  },
  {
   "cell_type": "code",
   "execution_count": 5,
   "id": "682293fc-4eb4-4bd4-bce3-f3cf2d1d968a",
   "metadata": {},
   "outputs": [
    {
     "name": "stdout",
     "output_type": "stream",
     "text": [
      "even\n"
     ]
    }
   ],
   "source": [
    "# one line if-else program\n",
    "print(\"even\") if num %2 == 0 else print(\"odd\")"
   ]
  },
  {
   "cell_type": "code",
   "execution_count": 7,
   "id": "6c9ab27d-adb8-4a27-919f-fd1b0fa39672",
   "metadata": {},
   "outputs": [
    {
     "name": "stdout",
     "output_type": "stream",
     "text": [
      "Positive\n"
     ]
    }
   ],
   "source": [
    "x = 10\n",
    "result = \"Positive\" if x > 0 else \"Negative\"\n",
    "print(result)"
   ]
  },
  {
   "cell_type": "code",
   "execution_count": 9,
   "id": "1ab12707-d688-48c0-a9e9-4806fe301a7b",
   "metadata": {},
   "outputs": [
    {
     "name": "stdout",
     "output_type": "stream",
     "text": [
      "Adult\n"
     ]
    }
   ],
   "source": [
    "age = 18\n",
    "category = \"Adult\" if age >= 18 else \"Minor\"\n",
    "print(category)"
   ]
  },
  {
   "cell_type": "code",
   "execution_count": 19,
   "id": "7a70151f-71f3-42f7-aad7-dc2ab1f20dc9",
   "metadata": {},
   "outputs": [
    {
     "name": "stdin",
     "output_type": "stream",
     "text": [
      "Enter a number:  54\n"
     ]
    },
    {
     "name": "stdout",
     "output_type": "stream",
     "text": [
      "Positive\n"
     ]
    }
   ],
   "source": [
    "# nested if-else in one line\n",
    "num = int(input(\"Enter a number: \"))\n",
    "result = \"Positive\" if num > 0 else (\"Negative\" if num < 0 else \"Zero\")\n",
    "print(result)"
   ]
  },
  {
   "cell_type": "code",
   "execution_count": 21,
   "id": "e245b970-b886-4b62-969c-cceafa87b32a",
   "metadata": {},
   "outputs": [
    {
     "name": "stdin",
     "output_type": "stream",
     "text": [
      "Enter a number:  -65\n"
     ]
    },
    {
     "name": "stdout",
     "output_type": "stream",
     "text": [
      "Negative\n"
     ]
    }
   ],
   "source": [
    "# nested if-else in one line\n",
    "num = int(input(\"Enter a number: \"))\n",
    "result = \"Positive\" if num > 0 else (\"Negative\" if num < 0 else \"Zero\")\n",
    "print(result)"
   ]
  },
  {
   "cell_type": "code",
   "execution_count": 23,
   "id": "f537ef5a-e32e-48a4-8223-63172d35a854",
   "metadata": {},
   "outputs": [
    {
     "data": {
      "text/plain": [
       "[2, 18, 4, 20, 112, 178]"
      ]
     },
     "execution_count": 23,
     "metadata": {},
     "output_type": "execute_result"
    }
   ],
   "source": [
    "# List Comprehension \n",
    "L = [1,9,2,10,56,89]\n",
    "[2*x for x in L ]\n"
   ]
  },
  {
   "cell_type": "code",
   "execution_count": 25,
   "id": "25187202-a9ca-489f-8fd9-355d85db9d91",
   "metadata": {},
   "outputs": [
    {
     "data": {
      "text/plain": [
       "[2, 10, 56]"
      ]
     },
     "execution_count": 25,
     "metadata": {},
     "output_type": "execute_result"
    }
   ],
   "source": [
    "# printing even numbers in LC\n",
    "L = [1,9,2,10,56,89]\n",
    "[x for x in L if x%2 == 0]\n"
   ]
  },
  {
   "cell_type": "code",
   "execution_count": 40,
   "id": "fc7c8cbd-777e-4a40-93f5-b3a6f34c6baf",
   "metadata": {},
   "outputs": [
    {
     "data": {
      "text/plain": [
       "[1, 9, 89]"
      ]
     },
     "execution_count": 40,
     "metadata": {},
     "output_type": "execute_result"
    }
   ],
   "source": [
    "# # printing odd numbers in LC\n",
    "L = [1,9,2,10,56,89]\n",
    "[x for x in L if x%2 != 0]"
   ]
  },
  {
   "cell_type": "code",
   "execution_count": 58,
   "id": "d6523620-d457-4fa7-87ec-9a21287f921c",
   "metadata": {},
   "outputs": [
    {
     "data": {
      "text/plain": [
       "[48000.0, 60000, 80000, 54000.0]"
      ]
     },
     "execution_count": 58,
     "metadata": {},
     "output_type": "execute_result"
    }
   ],
   "source": [
    "# Print updated salaries\n",
    "# Condition is give 20% hike for\n",
    "# salaries <= 50000\n",
    "sal = [40000,60000,80000,45000]\n",
    "[(x*1.2 if x <= 50000 else x) for x in sal]\n"
   ]
  },
  {
   "cell_type": "code",
   "execution_count": 64,
   "id": "26e05528-a30d-46d2-975b-61ecb5e81cbd",
   "metadata": {},
   "outputs": [
    {
     "name": "stdout",
     "output_type": "stream",
     "text": [
      "{'Ram': [70, 71, 98, 100], 'John': [56, 98, 67, 65]}\n"
     ]
    }
   ],
   "source": [
    "# Dictionary Comprehension\n",
    "d1 = {'Ram':[70,71,98,100], 'John':[56,98,67,65]}\n",
    "print(d1)"
   ]
  },
  {
   "cell_type": "code",
   "execution_count": 73,
   "id": "961a08f7-d228-4977-b8f0-85f2aea62bc6",
   "metadata": {},
   "outputs": [
    {
     "data": {
      "text/plain": [
       "{'Ram': 84.75, 'John': 71.5}"
      ]
     },
     "execution_count": 73,
     "metadata": {},
     "output_type": "execute_result"
    }
   ],
   "source": [
    "# average value for  marks\n",
    "{k:sum(v)/len(v) for k,v in d1.items()}\n"
   ]
  },
  {
   "cell_type": "code",
   "execution_count": 83,
   "id": "0c7a725b-1bb3-4a6a-854a-c21184d2f49c",
   "metadata": {},
   "outputs": [
    {
     "data": {
      "text/plain": [
       "5.5"
      ]
     },
     "execution_count": 83,
     "metadata": {},
     "output_type": "execute_result"
    }
   ],
   "source": [
    "# User defined function to compute average\n",
    "def mean_value(given_list):\n",
    "    total = sum(given_list)\n",
    "    average_value = total/len(given_list)\n",
    "    return average_value\n",
    "L = [1,2,3,4,5,6,7,8,9,10]\n",
    "mean_value(L)"
   ]
  },
  {
   "cell_type": "code",
   "execution_count": 100,
   "id": "e5829da6-7327-454f-8869-adb092abeb99",
   "metadata": {},
   "outputs": [],
   "source": [
    "# user defined function\n",
    "#Greet with \"Good Morning\" with your name\n",
    "#calliing function our name\n"
   ]
  },
  {
   "cell_type": "code",
   "execution_count": 91,
   "id": "d5d5f5cc-59f2-466d-b5a1-e87e18a62173",
   "metadata": {},
   "outputs": [
    {
     "name": "stdout",
     "output_type": "stream",
     "text": [
      "Good Morning Padathaina Prasanna!\n"
     ]
    }
   ],
   "source": [
    "def greet(name):\n",
    "    print(f\"Good Morning {name}!\")\n",
    "\n",
    "\n",
    "greet(\"Padathaina Prasanna\")\n"
   ]
  },
  {
   "cell_type": "code",
   "execution_count": 96,
   "id": "534f5c62-ab73-4144-9637-838a742912d7",
   "metadata": {},
   "outputs": [],
   "source": [
    "def greet (name = \"Ramesh\"):\n",
    "    print(f\"Good Morning {name}!\")\n",
    "    greet(\"Ramesh\")"
   ]
  },
  {
   "cell_type": "code",
   "execution_count": 110,
   "id": "c7d7eda4-f068-4d68-8faa-0dbf434ecc41",
   "metadata": {},
   "outputs": [
    {
     "data": {
      "text/plain": [
       "25.0"
      ]
     },
     "execution_count": 110,
     "metadata": {},
     "output_type": "execute_result"
    }
   ],
   "source": [
    "# Function with variable number of arguments\n",
    "def avg_value(*n):\n",
    "    l = len(n)\n",
    "    average = sum(n)/l\n",
    "    return average\n",
    "avg_value(10,20,30,40)"
   ]
  },
  {
   "cell_type": "code",
   "execution_count": null,
   "id": "bcd58930-3062-43ff-ae19-3d95556c656b",
   "metadata": {},
   "outputs": [],
   "source": []
  },
  {
   "cell_type": "code",
   "execution_count": null,
   "id": "3e066812-691a-46e9-b6fd-2c6a825e6a06",
   "metadata": {},
   "outputs": [],
   "source": []
  }
 ],
 "metadata": {
  "kernelspec": {
   "display_name": "Python [conda env:base] *",
   "language": "python",
   "name": "conda-base-py"
  },
  "language_info": {
   "codemirror_mode": {
    "name": "ipython",
    "version": 3
   },
   "file_extension": ".py",
   "mimetype": "text/x-python",
   "name": "python",
   "nbconvert_exporter": "python",
   "pygments_lexer": "ipython3",
   "version": "3.12.7"
  }
 },
 "nbformat": 4,
 "nbformat_minor": 5
}
