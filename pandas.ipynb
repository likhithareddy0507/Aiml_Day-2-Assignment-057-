{
 "cells": [
  {
   "cell_type": "code",
   "execution_count": 3,
   "id": "981720ca-b574-4772-a0e9-39096252cb1b",
   "metadata": {},
   "outputs": [],
   "source": [
    "###@features of pandas@###\n",
    "    data structures\n",
    "    data cleaning\n",
    "    indexing and slicing\n",
    "    data aggregation\n",
    "    data transformation\n",
    "    time series handling\n",
    "    data visualization\n",
    "    integration\n",
    "    file I/O\n",
    "    pandas  series objects are size is immutable\n",
    "    but it allows to modify element value\n",
    "    it only allows homegenous objects\n",
    "\n",
    "\n"
   ]
  },
  {
   "cell_type": "code",
   "execution_count": 7,
   "id": "d5a157d1-53f5-4725-85b4-370f473fe9db",
   "metadata": {},
   "outputs": [],
   "source": [
    "# import pandas\n",
    "import pandas as pd"
   ]
  },
  {
   "cell_type": "code",
   "execution_count": 9,
   "id": "06a90b75-5f7a-4c09-a778-ae2e44ed3322",
   "metadata": {},
   "outputs": [
    {
     "name": "stdout",
     "output_type": "stream",
     "text": [
      "0    10\n",
      "1    20\n",
      "2    30\n",
      "3    40\n",
      "dtype: int64\n"
     ]
    }
   ],
   "source": [
    "# Create pandas series using list\n",
    "\n",
    "data = [10, 20, 30, 40]\n",
    "series = pd.Series(data)\n",
    "print(series)"
   ]
  },
  {
   "cell_type": "code",
   "execution_count": 11,
   "id": "1772f294-1ec4-4b3c-9d52-f2f7b35e1a57",
   "metadata": {},
   "outputs": [
    {
     "name": "stdout",
     "output_type": "stream",
     "text": [
      "A    1\n",
      "B    2\n",
      "C    3\n",
      "D    4\n",
      "dtype: int64\n"
     ]
    }
   ],
   "source": [
    "# Create series using a custom index\n",
    "data = [1,2,3,4]\n",
    "i = ['A', 'B', 'C', 'D']\n",
    "series = pd.Series(data, index=i)\n",
    "print(series)"
   ]
  },
  {
   "cell_type": "code",
   "execution_count": 15,
   "id": "21efa63f-b518-4970-aa42-4b5e30ccd0fa",
   "metadata": {},
   "outputs": [
    {
     "name": "stdout",
     "output_type": "stream",
     "text": [
      "a    10\n",
      "b    20\n",
      "c    30\n",
      "dtype: int64\n"
     ]
    }
   ],
   "source": [
    "## Create a pandas series using dictionary\n",
    "data = {'a': 10, 'b': 20, 'c': 30}\n",
    "series = pd.Series(data)\n",
    "print(series)"
   ]
  },
  {
   "cell_type": "code",
   "execution_count": 17,
   "id": "48bc8772-17dd-486d-91a2-4b4796cdae54",
   "metadata": {},
   "outputs": [
    {
     "data": {
      "text/plain": [
       "a    10\n",
       "b    40\n",
       "c    30\n",
       "dtype: int64"
      ]
     },
     "execution_count": 17,
     "metadata": {},
     "output_type": "execute_result"
    }
   ],
   "source": [
    "series.replace(20,40)"
   ]
  },
  {
   "cell_type": "code",
   "execution_count": 21,
   "id": "ea1e8cd4-7334-4602-b8e1-28eec9a0fda2",
   "metadata": {},
   "outputs": [
    {
     "name": "stdout",
     "output_type": "stream",
     "text": [
      "a    100\n",
      "b    200\n",
      "c    300\n",
      "dtype: int32\n"
     ]
    }
   ],
   "source": [
    "# create series using numpy array\n",
    "import numpy as np\n",
    "\n",
    "data = np.array([100, 200, 300])\n",
    "series = pd.Series(data, index=['a','b','c'])\n",
    "print(series)"
   ]
  },
  {
   "cell_type": "code",
   "execution_count": null,
   "id": "81ab6f4d-356e-43ed-91c2-427005980a2a",
   "metadata": {},
   "outputs": [],
   "source": [
    "# pandas dataframe"
   ]
  },
  {
   "cell_type": "code",
   "execution_count": 23,
   "id": "2a47b5f2-bb50-4790-9fe1-adc4f078ec9f",
   "metadata": {},
   "outputs": [
    {
     "name": "stdout",
     "output_type": "stream",
     "text": [
      "    Name  Age Country\n",
      "0  Alice   25     USA\n",
      "1    Bob   30      UK\n",
      "2   Mary   34     AUS\n"
     ]
    }
   ],
   "source": [
    "#  create pandas dataframe from dictionary of lists\n",
    "import pandas as pd\n",
    "\n",
    "data = {'Name': ['Alice', 'Bob','Mary'], 'Age': [25, 30, 34], 'Country':[\"USA\",\"UK\",\"AUS\"]}\n",
    "df = pd.DataFrame(data)\n",
    "print(df)"
   ]
  },
  {
   "cell_type": "code",
   "execution_count": 29,
   "id": "ea72a3da-0876-40fc-b879-993b3809c532",
   "metadata": {},
   "outputs": [
    {
     "name": "stdout",
     "output_type": "stream",
     "text": [
      "[[1 2 3]\n",
      " [4 5 6]\n",
      " [7 8 9]]\n",
      "   A  B  C\n",
      "0  1  2  3\n",
      "1  4  5  6\n",
      "2  7  8  9\n"
     ]
    }
   ],
   "source": [
    "# create pandas dataframe from numpy array\n",
    "\n",
    "import numpy as np\n",
    "\n",
    "array = np.array([[1, 2, 3], [4, 5, 6], [7, 8, 9]])\n",
    "print(array)\n",
    "df = pd.DataFrame(array, columns=['A', 'B', 'C'])\n",
    "print(df)"
   ]
  },
  {
   "cell_type": "code",
   "execution_count": null,
   "id": "33f7e48e-ee84-4268-b99f-4e197cfee0f7",
   "metadata": {},
   "outputs": [],
   "source": []
  }
 ],
 "metadata": {
  "kernelspec": {
   "display_name": "Python [conda env:base] *",
   "language": "python",
   "name": "conda-base-py"
  },
  "language_info": {
   "codemirror_mode": {
    "name": "ipython",
    "version": 3
   },
   "file_extension": ".py",
   "mimetype": "text/x-python",
   "name": "python",
   "nbconvert_exporter": "python",
   "pygments_lexer": "ipython3",
   "version": "3.12.7"
  }
 },
 "nbformat": 4,
 "nbformat_minor": 5
}
